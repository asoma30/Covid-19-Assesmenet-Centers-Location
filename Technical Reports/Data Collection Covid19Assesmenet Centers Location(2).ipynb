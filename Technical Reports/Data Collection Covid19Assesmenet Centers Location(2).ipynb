{
 "cells": [
  {
   "cell_type": "markdown",
   "id": "068a2dcc",
   "metadata": {},
   "source": [
    "**Data Description**\n",
    "\n",
    "The project utilizes a comprehensive dataset containing information on COVID-19 assessment center locations: (location name, operator, physical address, phone number, website, public health unit, latitude, longitude, hours of operation, age restrictions, appointment requirements, service modalities).\n",
    "\n",
    "download the dataset** Data columns (total 45 columns)"
   ]
  },
  {
   "cell_type": "code",
   "execution_count": 1,
   "id": "76497ab9",
   "metadata": {},
   "outputs": [],
   "source": [
    "import pandas as pd"
   ]
  },
  {
   "cell_type": "code",
   "execution_count": 2,
   "id": "722ec15f",
   "metadata": {},
   "outputs": [],
   "source": [
    "# Load the dataset\n",
    "data_path = r'C:\\Users\\User PC\\Desktop\\DATA SET\\assessment_centre_locations.csv'\n",
    "df = pd.read_csv(data_path)"
   ]
  },
  {
   "cell_type": "code",
   "execution_count": 3,
   "id": "0b3c9e5e",
   "metadata": {},
   "outputs": [
    {
     "name": "stdout",
     "output_type": "stream",
     "text": [
      "Column Names: Index(['testing_enrolled', 'location_id', 'assessment_centre', 'location_name',\n",
      "       'operated_by', 'city', 'address', 'address_fr', 'postal_code',\n",
      "       'province', 'latitude', 'longitude', 'phu', 'phone', 'website',\n",
      "       'monday', 'tuesday', 'wednesday', 'thursday', 'friday', 'appointments',\n",
      "       'phone_appointments', 'symptomatic', 'drive_through', 'accessible',\n",
      "       'additional_information', 'saturday', 'sunday', 'online_appointments',\n",
      "       'walk_ins', 'children_under_2', 'age_threshold', 'public_transit',\n",
      "       'additional_information_fr', 'location_name_fr',\n",
      "       'french_language_services', 'free_parking', 'weeks_pregnant',\n",
      "       'general_population', 'asl_interpretation', 'email', 'first_nations',\n",
      "       'community_lab', 'vaccine_enrolled', 'pharmacy'],\n",
      "      dtype='object')\n"
     ]
    }
   ],
   "source": [
    "print(\"Column Names:\", df.columns)"
   ]
  },
  {
   "cell_type": "code",
   "execution_count": 4,
   "id": "1d0b4cfa",
   "metadata": {},
   "outputs": [
    {
     "name": "stdout",
     "output_type": "stream",
     "text": [
      "   testing_enrolled  location_id  assessment_centre  \\\n",
      "0               1.0            1                1.0   \n",
      "1               NaN            2                1.0   \n",
      "2               NaN            3                1.0   \n",
      "3               NaN            4                1.0   \n",
      "4               1.0            5                1.0   \n",
      "\n",
      "                                   location_name  \\\n",
      "0                  Blanche River Health-Kirkland   \n",
      "1  South Georgian Bay Regional Assessment Centre   \n",
      "2                      Midland Assessment Centre   \n",
      "3                 COVID-19 Testing Clinic Milton   \n",
      "4           Oakville Trafalgar Memorial Hospital   \n",
      "\n",
      "                                 operated_by           city  \\\n",
      "0  Blanche River Health (Kirkland Lake site)  Kirkland Lake   \n",
      "1            Georgian Bay Family Health Team    Collingwood   \n",
      "2              Georgian Bay General Hospital        Midland   \n",
      "3                                  FH Health         Milton   \n",
      "4                 Halton Healthcare Services       Oakville   \n",
      "\n",
      "                    address                 address_fr postal_code province  \\\n",
      "0  145 Government Road East  145 chemin Government Est     P2N 3P4       ON   \n",
      "1        490 Ontario Street                        NaN     L9Y 1N6       ON   \n",
      "2    1156 St. Andrews Drive                        NaN     L4R 4P4       ON   \n",
      "3   725 Bronte Street South         725 rue Bronte Sud     L9T 9K1       ON   \n",
      "4        3001 Hospital Gate         3001 Hospital Gate     L6M 0L8       ON   \n",
      "\n",
      "   ...  french_language_services  free_parking weeks_pregnant  \\\n",
      "0  ...                       NaN           NaN            NaN   \n",
      "1  ...                       NaN           NaN            NaN   \n",
      "2  ...                       1.0           1.0            NaN   \n",
      "3  ...                       NaN           1.0            NaN   \n",
      "4  ...                       NaN           1.0            NaN   \n",
      "\n",
      "  general_population asl_interpretation email first_nations community_lab  \\\n",
      "0                NaN                NaN   NaN           NaN           NaN   \n",
      "1                NaN                NaN   NaN           NaN           NaN   \n",
      "2                NaN                NaN   NaN           NaN           NaN   \n",
      "3                NaN                NaN   NaN           NaN           NaN   \n",
      "4                NaN                NaN   NaN           NaN           NaN   \n",
      "\n",
      "  vaccine_enrolled pharmacy  \n",
      "0              NaN      NaN  \n",
      "1              NaN      NaN  \n",
      "2              NaN      NaN  \n",
      "3              NaN      NaN  \n",
      "4              NaN      NaN  \n",
      "\n",
      "[5 rows x 45 columns]\n"
     ]
    }
   ],
   "source": [
    "print(df.head())"
   ]
  },
  {
   "cell_type": "markdown",
   "id": "ecaaab72",
   "metadata": {},
   "source": [
    "In data analysis, it is often crucial to distinguish between numerical and categorical data types. Numerical columns contain continuous or discrete numeric values, while categorical columns contain discrete categories or labels. This report details the process of separating numerical and categorical columns in the dataset and presents the identified columns. "
   ]
  },
  {
   "cell_type": "code",
   "execution_count": 5,
   "id": "c6b6c7b1",
   "metadata": {},
   "outputs": [
    {
     "name": "stdout",
     "output_type": "stream",
     "text": [
      "<class 'pandas.core.frame.DataFrame'>\n",
      "RangeIndex: 2244 entries, 0 to 2243\n",
      "Data columns (total 45 columns):\n",
      " #   Column                     Non-Null Count  Dtype  \n",
      "---  ------                     --------------  -----  \n",
      " 0   testing_enrolled           569 non-null    float64\n",
      " 1   location_id                2244 non-null   int64  \n",
      " 2   assessment_centre          299 non-null    float64\n",
      " 3   location_name              2244 non-null   object \n",
      " 4   operated_by                871 non-null    object \n",
      " 5   city                       2244 non-null   object \n",
      " 6   address                    2241 non-null   object \n",
      " 7   address_fr                 171 non-null    object \n",
      " 8   postal_code                2243 non-null   object \n",
      " 9   province                   2244 non-null   object \n",
      " 10  latitude                   2243 non-null   float64\n",
      " 11  longitude                  2243 non-null   float64\n",
      " 12  phu                        2243 non-null   object \n",
      " 13  phone                      1197 non-null   object \n",
      " 14  website                    2085 non-null   object \n",
      " 15  monday                     2137 non-null   object \n",
      " 16  tuesday                    2135 non-null   object \n",
      " 17  wednesday                  2140 non-null   object \n",
      " 18  thursday                   2129 non-null   object \n",
      " 19  friday                     2125 non-null   object \n",
      " 20  appointments               2210 non-null   float64\n",
      " 21  phone_appointments         2000 non-null   float64\n",
      " 22  symptomatic                857 non-null    float64\n",
      " 23  drive_through              58 non-null     float64\n",
      " 24  accessible                 169 non-null    float64\n",
      " 25  additional_information     338 non-null    object \n",
      " 26  saturday                   2052 non-null   object \n",
      " 27  sunday                     1949 non-null   object \n",
      " 28  online_appointments        1929 non-null   object \n",
      " 29  walk_ins                   75 non-null     float64\n",
      " 30  children_under_2           141 non-null    float64\n",
      " 31  age_threshold              753 non-null    object \n",
      " 32  public_transit             134 non-null    float64\n",
      " 33  additional_information_fr  59 non-null     object \n",
      " 34  location_name_fr           193 non-null    object \n",
      " 35  french_language_services   64 non-null     float64\n",
      " 36  free_parking               145 non-null    float64\n",
      " 37  weeks_pregnant             2 non-null      object \n",
      " 38  general_population         77 non-null     float64\n",
      " 39  asl_interpretation         17 non-null     float64\n",
      " 40  email                      18 non-null     object \n",
      " 41  first_nations              8 non-null      float64\n",
      " 42  community_lab              60 non-null     float64\n",
      " 43  vaccine_enrolled           1804 non-null   float64\n",
      " 44  pharmacy                   1876 non-null   float64\n",
      "dtypes: float64(20), int64(1), object(24)\n",
      "memory usage: 789.0+ KB\n",
      "None\n"
     ]
    }
   ],
   "source": [
    "print(df.info())"
   ]
  },
  {
   "cell_type": "code",
   "execution_count": null,
   "id": "8394d978",
   "metadata": {},
   "outputs": [],
   "source": []
  }
 ],
 "metadata": {
  "kernelspec": {
   "display_name": "Python 3 (ipykernel)",
   "language": "python",
   "name": "python3"
  },
  "language_info": {
   "codemirror_mode": {
    "name": "ipython",
    "version": 3
   },
   "file_extension": ".py",
   "mimetype": "text/x-python",
   "name": "python",
   "nbconvert_exporter": "python",
   "pygments_lexer": "ipython3",
   "version": "3.9.13"
  }
 },
 "nbformat": 4,
 "nbformat_minor": 5
}
