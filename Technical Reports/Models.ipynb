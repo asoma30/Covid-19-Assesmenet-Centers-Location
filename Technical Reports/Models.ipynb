{
 "cells": [
  {
   "cell_type": "code",
   "execution_count": 22,
   "id": "fb938b43",
   "metadata": {},
   "outputs": [],
   "source": [
    "import pandas as pd\n",
    "from sklearn.preprocessing import StandardScaler, OneHotEncoder\n",
    "from sklearn.impute import SimpleImputer\n",
    "from sklearn.compose import ColumnTransformer\n",
    "from sklearn.pipeline import Pipeline"
   ]
  },
  {
   "cell_type": "code",
   "execution_count": 67,
   "id": "7967432e",
   "metadata": {},
   "outputs": [],
   "source": [
    "# Load the dataset\n",
    "data_path = r'C:\\Users\\User PC\\Desktop\\DATA SET\\assessment_centre_locations.csv'\n",
    "df = pd.read_csv(data_path)"
   ]
  },
  {
   "cell_type": "code",
   "execution_count": 68,
   "id": "6f7e65f8",
   "metadata": {},
   "outputs": [
    {
     "name": "stdout",
     "output_type": "stream",
     "text": [
      "testing_enrolled             1675\n",
      "location_id                     0\n",
      "assessment_centre            1945\n",
      "location_name                   0\n",
      "operated_by                  1373\n",
      "city                            0\n",
      "address                         3\n",
      "address_fr                   2073\n",
      "postal_code                     1\n",
      "province                        0\n",
      "latitude                        1\n",
      "longitude                       1\n",
      "phu                             1\n",
      "phone                        1047\n",
      "website                       159\n",
      "monday                        107\n",
      "tuesday                       109\n",
      "wednesday                     104\n",
      "thursday                      115\n",
      "friday                        119\n",
      "appointments                   34\n",
      "phone_appointments            244\n",
      "symptomatic                  1387\n",
      "drive_through                2186\n",
      "accessible                   2075\n",
      "additional_information       1906\n",
      "saturday                      192\n",
      "sunday                        295\n",
      "online_appointments           315\n",
      "walk_ins                     2169\n",
      "children_under_2             2103\n",
      "age_threshold                1491\n",
      "public_transit               2110\n",
      "additional_information_fr    2185\n",
      "location_name_fr             2051\n",
      "french_language_services     2180\n",
      "free_parking                 2099\n",
      "weeks_pregnant               2242\n",
      "general_population           2167\n",
      "asl_interpretation           2227\n",
      "email                        2226\n",
      "first_nations                2236\n",
      "community_lab                2184\n",
      "vaccine_enrolled              440\n",
      "pharmacy                      368\n",
      "dtype: int64\n"
     ]
    }
   ],
   "source": [
    "print(df.isnull().sum())"
   ]
  },
  {
   "cell_type": "code",
   "execution_count": 71,
   "id": "083104a6",
   "metadata": {},
   "outputs": [
    {
     "name": "stdout",
     "output_type": "stream",
     "text": [
      "   appointments  phone_appointments  \\\n",
      "0           1.0                 1.0   \n",
      "1           1.0                 NaN   \n",
      "2           1.0                 NaN   \n",
      "3           1.0                 NaN   \n",
      "4           1.0                 1.0   \n",
      "\n",
      "                                 online_appointments  walk_ins  \\\n",
      "0                                                NaN       NaN   \n",
      "1           https://chlscheduling.as.me/schedule.php       1.0   \n",
      "2                                                NaN       NaN   \n",
      "3                        http://www.fhhealth.com/pho       NaN   \n",
      "4  https://www.haltonhealthcare.on.ca/covid-19-in...       NaN   \n",
      "\n",
      "   children_under_2  general_population  community_lab  \n",
      "0               NaN                 NaN            NaN  \n",
      "1               1.0                 NaN            NaN  \n",
      "2               1.0                 NaN            NaN  \n",
      "3               NaN                 NaN            NaN  \n",
      "4               1.0                 NaN            NaN  \n"
     ]
    }
   ],
   "source": [
    "columns_to_drop = [\n",
    "    'testing_enrolled', 'location_id', 'assessment_centre', 'location_name', \n",
    "    'operated_by', 'city', 'address', 'address_fr', 'postal_code', 'province', \n",
    "    'latitude', 'longitude', 'phu', 'phone', 'website', 'monday', 'tuesday', \n",
    "    'wednesday', 'thursday', 'friday', 'symptomatic', 'drive_through', 'accessible', \n",
    "    'additional_information', 'saturday', 'sunday', 'age_threshold', 'public_transit', \n",
    "    'additional_information_fr', 'location_name_fr', 'french_language_services', \n",
    "    'free_parking', 'weeks_pregnant', 'asl_interpretation', 'email', 'first_nations', \n",
    "    'vaccine_enrolled', 'pharmacy'\n",
    "]\n",
    "\n",
    "# Drop columns from DataFrame\n",
    "df.drop(columns=columns_to_drop, inplace=True)\n",
    "\n",
    "# Verify the modified DataFrame\n",
    "print(df.head()) "
   ]
  },
  {
   "cell_type": "code",
   "execution_count": 74,
   "id": "bcd273a9",
   "metadata": {},
   "outputs": [],
   "source": [
    "# Fill the missing values with 0\n",
    "\n",
    "df['appointments'].fillna('0',inplace=True)\n",
    "df['phone_appointments'].fillna('0',inplace=True)\n",
    "df['online_appointments'].fillna('0',inplace=True)\n",
    "df['walk_ins'].fillna('0',inplace=True)\n",
    "df['children_under_2'].fillna('0',inplace=True)\n",
    "df['general_population'].fillna('0',inplace=True)\n",
    "df['community_lab'].fillna('0',inplace=True)"
   ]
  },
  {
   "cell_type": "code",
   "execution_count": 75,
   "id": "04090e93",
   "metadata": {},
   "outputs": [
    {
     "name": "stdout",
     "output_type": "stream",
     "text": [
      "  appointments phone_appointments  \\\n",
      "0          1.0                1.0   \n",
      "1          1.0                  0   \n",
      "2          1.0                  0   \n",
      "3          1.0                  0   \n",
      "4          1.0                1.0   \n",
      "\n",
      "                                 online_appointments walk_ins  \\\n",
      "0                                                  0        0   \n",
      "1           https://chlscheduling.as.me/schedule.php      1.0   \n",
      "2                                                  0        0   \n",
      "3                        http://www.fhhealth.com/pho        0   \n",
      "4  https://www.haltonhealthcare.on.ca/covid-19-in...        0   \n",
      "\n",
      "  children_under_2 general_population community_lab  \n",
      "0                0                  0             0  \n",
      "1              1.0                  0             0  \n",
      "2              1.0                  0             0  \n",
      "3                0                  0             0  \n",
      "4              1.0                  0             0  \n"
     ]
    }
   ],
   "source": [
    "print(df.head()) "
   ]
  },
  {
   "cell_type": "code",
   "execution_count": 109,
   "id": "35140c9c",
   "metadata": {},
   "outputs": [
    {
     "name": "stdout",
     "output_type": "stream",
     "text": [
      "1    5\n",
      "Name: online_appointments, dtype: int64\n",
      "int32\n"
     ]
    }
   ],
   "source": [
    "import pandas as pd\n",
    "\n",
    "# Example function to clean the column\n",
    "def clean_online_appointments(value):\n",
    "    if pd.isna(value) or value == \"\":\n",
    "        return 0\n",
    "    elif isinstance(value, str):\n",
    "        if value.strip() == \"\":\n",
    "            return 0\n",
    "        else:\n",
    "            return 1\n",
    "    else:\n",
    "        return 1\n",
    "\n",
    "# Apply the function to clean the column\n",
    "df['online_appointments'] = df['online_appointments'].apply(clean_online_appointments)\n",
    "\n",
    "# Convert the column to numeric type\n",
    "df['online_appointments'] = df['online_appointments'].astype(int)\n",
    "\n",
    "# Verify the cleaned column\n",
    "print(df['online_appointments'].value_counts())\n",
    "print(df['online_appointments'].dtype)\n"
   ]
  },
  {
   "cell_type": "code",
   "execution_count": 110,
   "id": "85fcf099",
   "metadata": {},
   "outputs": [
    {
     "name": "stdout",
     "output_type": "stream",
     "text": [
      "[1 0]\n",
      "1    3\n",
      "0    2\n",
      "Name: general_population, dtype: int64\n"
     ]
    }
   ],
   "source": [
    "# Check unique values in the target variable\n",
    "print(df['general_population'].unique())\n",
    "\n",
    "# Check distribution of classes\n",
    "print(df['general_population'].value_counts())"
   ]
  },
  {
   "cell_type": "code",
   "execution_count": 85,
   "id": "c30edac0",
   "metadata": {},
   "outputs": [],
   "source": [
    "X = df[features]\n",
    "y = df[target]"
   ]
  },
  {
   "cell_type": "code",
   "execution_count": 90,
   "id": "0702b046",
   "metadata": {},
   "outputs": [],
   "source": [
    "y_binary = (y == 1.0).astype(int)  # Convert to binary (0 and 1)"
   ]
  },
  {
   "cell_type": "code",
   "execution_count": 81,
   "id": "1539a58d",
   "metadata": {},
   "outputs": [],
   "source": [
    "from sklearn.linear_model import LogisticRegression\n",
    "from sklearn.metrics import accuracy_score, classification_report, confusion_matrix\n",
    "from sklearn.model_selection import train_test_split"
   ]
  },
  {
   "cell_type": "markdown",
   "id": "c2484057",
   "metadata": {},
   "source": [
    "# LogisticRegression Model"
   ]
  },
  {
   "cell_type": "code",
   "execution_count": 91,
   "id": "96effa1a",
   "metadata": {},
   "outputs": [
    {
     "name": "stdout",
     "output_type": "stream",
     "text": [
      "Accuracy: 0.9910979228486647\n",
      "              precision    recall  f1-score   support\n",
      "\n",
      "           0       0.99      1.00      1.00       649\n",
      "           1       1.00      0.76      0.86        25\n",
      "\n",
      "    accuracy                           0.99       674\n",
      "   macro avg       1.00      0.88      0.93       674\n",
      "weighted avg       0.99      0.99      0.99       674\n",
      "\n",
      "[[649   0]\n",
      " [  6  19]]\n"
     ]
    }
   ],
   "source": [
    "# select the Features and the Target\n",
    "X = df[['appointments', 'phone_appointments', 'walk_ins', 'children_under_2', 'community_lab', 'online_appointments']]\n",
    "y = df['general_population']\n",
    "\n",
    "# Split the data\n",
    "\n",
    "X_train, X_test, y_train, y_test = train_test_split(X, y_binary, test_size=0.3, random_state=42)\n",
    "\n",
    "# initialize the model\n",
    "\n",
    "Model = LogisticRegression(max_iter=1000)\n",
    "\n",
    "# Train the model\n",
    "Model.fit(X_train, y_train)\n",
    "\n",
    "# Predict and evaluate\n",
    "y_pred = Model.predict(X_test)\n",
    "\n",
    "\n",
    "print(f\"Accuracy: {accuracy_score(y_test, y_pred)}\")\n",
    "print(classification_report(y_test, y_pred))\n",
    "print(confusion_matrix(y_test, y_pred))"
   ]
  },
  {
   "cell_type": "markdown",
   "id": "acc9822d",
   "metadata": {},
   "source": [
    "# Decision Tree Model"
   ]
  },
  {
   "cell_type": "code",
   "execution_count": 93,
   "id": "52251bd5",
   "metadata": {},
   "outputs": [
    {
     "name": "stdout",
     "output_type": "stream",
     "text": [
      "Accuracy: 0.9910979228486647\n",
      "Confusion Matrix:\n",
      "[[649   0]\n",
      " [  6  19]]\n",
      "Classification Report:\n",
      "              precision    recall  f1-score   support\n",
      "\n",
      "           0       0.99      1.00      1.00       649\n",
      "           1       1.00      0.76      0.86        25\n",
      "\n",
      "    accuracy                           0.99       674\n",
      "   macro avg       1.00      0.88      0.93       674\n",
      "weighted avg       0.99      0.99      0.99       674\n",
      "\n"
     ]
    }
   ],
   "source": [
    "# Split the data into training and testing sets\n",
    "X_train, X_test, y_train, y_test = train_test_split(X, y_binary, test_size=0.3, random_state=42)\n",
    "\n",
    "# Initialize the Decision Tree Classifier\n",
    "decision_tree = DecisionTreeClassifier(random_state=42)\n",
    "\n",
    "# Train the model\n",
    "decision_tree.fit(X_train, y_train)\n",
    "\n",
    "# Make predictions on the test set\n",
    "y_pred = decision_tree.predict(X_test)\n",
    "\n",
    "# Evaluate the model\n",
    "accuracy = accuracy_score(y_test, y_pred)\n",
    "conf_matrix = confusion_matrix(y_test, y_pred)\n",
    "class_report = classification_report(y_test, y_pred)\n",
    "\n",
    "print(f'Accuracy: {accuracy}')\n",
    "print('Confusion Matrix:')\n",
    "print(conf_matrix)\n",
    "print('Classification Report:')\n",
    "print(class_report)"
   ]
  },
  {
   "cell_type": "markdown",
   "id": "d5e2ab06",
   "metadata": {},
   "source": [
    "# Naive Bayes model"
   ]
  },
  {
   "cell_type": "code",
   "execution_count": 108,
   "id": "f05eeee1",
   "metadata": {},
   "outputs": [
    {
     "name": "stdout",
     "output_type": "stream",
     "text": [
      "Accuracy: 1.0\n",
      "Confusion Matrix:\n",
      "[[1 0]\n",
      " [0 1]]\n",
      "Classification Report:\n",
      "              precision    recall  f1-score   support\n",
      "\n",
      "           0       1.00      1.00      1.00         1\n",
      "           1       1.00      1.00      1.00         1\n",
      "\n",
      "    accuracy                           1.00         2\n",
      "   macro avg       1.00      1.00      1.00         2\n",
      "weighted avg       1.00      1.00      1.00         2\n",
      "\n"
     ]
    }
   ],
   "source": [
    "from sklearn.naive_bayes import GaussianNB\n",
    "\n",
    "\n",
    "# Select features and target\n",
    "features = ['appointments', 'phone_appointments', 'online_appointments', 'walk_ins', 'children_under_2']\n",
    "target = 'general_population'\n",
    "\n",
    "\n",
    "# Select features and target\n",
    "X = df[features]\n",
    "y = df[target]\n",
    "\n",
    "# Split the data into training and testing sets\n",
    "X_train, X_test, y_train, y_test = train_test_split(X, y, test_size=0.3, random_state=42)\n",
    "\n",
    "# Initialize Gaussian Naive Bayes model\n",
    "Model = GaussianNB()\n",
    "\n",
    "# Train the model\n",
    "Model.fit(X_train, y_train)\n",
    "\n",
    "# Predict on the test data\n",
    "y_pred = Model.predict(X_test)\n",
    "\n",
    "# Evaluate the model\n",
    "accuracy = accuracy_score(y_test, y_pred)\n",
    "conf_matrix = confusion_matrix(y_test, y_pred)\n",
    "class_report = classification_report(y_test, y_pred)\n",
    "\n",
    "print(f'Accuracy: {accuracy}')\n",
    "print('Confusion Matrix:')\n",
    "print(conf_matrix)\n",
    "print('Classification Report:')\n",
    "print(class_report)"
   ]
  },
  {
   "cell_type": "code",
   "execution_count": null,
   "id": "17afbe01",
   "metadata": {},
   "outputs": [],
   "source": []
  }
 ],
 "metadata": {
  "kernelspec": {
   "display_name": "Python 3 (ipykernel)",
   "language": "python",
   "name": "python3"
  },
  "language_info": {
   "codemirror_mode": {
    "name": "ipython",
    "version": 3
   },
   "file_extension": ".py",
   "mimetype": "text/x-python",
   "name": "python",
   "nbconvert_exporter": "python",
   "pygments_lexer": "ipython3",
   "version": "3.9.13"
  }
 },
 "nbformat": 4,
 "nbformat_minor": 5
}
