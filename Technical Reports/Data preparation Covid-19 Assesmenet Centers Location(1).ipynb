{
 "cells": [
  {
   "cell_type": "markdown",
   "id": "89cd7d4c",
   "metadata": {},
   "source": [
    "**Data preparation** \n",
    "\n",
    "-For Numerical Columns: Using the select_dtypes method, I identified the following numerical columns, Columns containing continuous or discrete numeric values, typically represented by data types float64 and int64. \n",
    "-for Categorical Columns: Similarly, using the select_dtypes method, I identified the following categorical columns, Columns containing discrete categories or labels, typically represented by the data type object."
   ]
  },
  {
   "cell_type": "code",
   "execution_count": 49,
   "id": "afcb788e",
   "metadata": {},
   "outputs": [],
   "source": [
    "import pandas as pd"
   ]
  },
  {
   "cell_type": "code",
   "execution_count": 50,
   "id": "48b962a9",
   "metadata": {},
   "outputs": [],
   "source": [
    "# Load the dataset\n",
    "data_path = r'C:\\Users\\User PC\\Desktop\\DATA SET\\assessment_centre_locations.csv'\n",
    "df = pd.read_csv(data_path)"
   ]
  },
  {
   "cell_type": "code",
   "execution_count": 51,
   "id": "246bf236",
   "metadata": {},
   "outputs": [
    {
     "name": "stdout",
     "output_type": "stream",
     "text": [
      "Numerical Columns:\n",
      "Index(['testing_enrolled', 'location_id', 'assessment_centre', 'latitude',\n",
      "       'longitude', 'appointments', 'phone_appointments', 'symptomatic',\n",
      "       'drive_through', 'accessible', 'walk_ins', 'children_under_2',\n",
      "       'public_transit', 'french_language_services', 'free_parking',\n",
      "       'general_population', 'asl_interpretation', 'first_nations',\n",
      "       'community_lab', 'vaccine_enrolled', 'pharmacy'],\n",
      "      dtype='object')\n",
      "Categorical Columns:\n",
      "Index(['location_name', 'operated_by', 'city', 'address', 'address_fr',\n",
      "       'postal_code', 'province', 'phu', 'phone', 'website', 'monday',\n",
      "       'tuesday', 'wednesday', 'thursday', 'friday', 'additional_information',\n",
      "       'saturday', 'sunday', 'online_appointments', 'age_threshold',\n",
      "       'additional_information_fr', 'location_name_fr', 'weeks_pregnant',\n",
      "       'email'],\n",
      "      dtype='object')\n"
     ]
    }
   ],
   "source": [
    "# dividing the numerical and categorical coloms\n",
    "numerical_colums = df.select_dtypes(include=['float64', 'int64']).columns\n",
    "categorical_colums = df.select_dtypes(include=['object']).columns\n",
    "\n",
    "print(\"Numerical Columns:\")\n",
    "print(numerical_colums)\n",
    "\n",
    "print(\"Categorical Columns:\")\n",
    "print(categorical_colums)"
   ]
  },
  {
   "cell_type": "markdown",
   "id": "2e2bbf39",
   "metadata": {},
   "source": [
    "provides a detailed summary of the numerical columns in the dataset, including metrics such as count, mean, standard deviation, minimum, maximum, and quartiles (25%, 50%, 75%)."
   ]
  },
  {
   "cell_type": "code",
   "execution_count": 5,
   "id": "698a882b",
   "metadata": {},
   "outputs": [
    {
     "name": "stdout",
     "output_type": "stream",
     "text": [
      "       testing_enrolled   location_id  assessment_centre     latitude  \\\n",
      "count             569.0   2244.000000              299.0  2243.000000   \n",
      "mean                1.0   1733.277184                1.0    44.030448   \n",
      "std                 0.0   3566.862475                0.0     1.794141   \n",
      "min                 1.0      1.000000                1.0     0.000000   \n",
      "25%                 1.0    577.750000                1.0    43.483263   \n",
      "50%                 1.0   1148.500000                1.0    43.742139   \n",
      "75%                 1.0   1716.250000                1.0    44.261460   \n",
      "max                 1.0  23470.000000                1.0    52.922613   \n",
      "\n",
      "         longitude  appointments  phone_appointments  symptomatic  \\\n",
      "count  2243.000000        2210.0              2000.0        857.0   \n",
      "mean    -79.480883           1.0                 1.0          1.0   \n",
      "std       3.278385           0.0                 0.0          0.0   \n",
      "min     -94.522027           1.0                 1.0          1.0   \n",
      "25%     -80.093238           1.0                 1.0          1.0   \n",
      "50%     -79.511043           1.0                 1.0          1.0   \n",
      "75%     -79.216645           1.0                 1.0          1.0   \n",
      "max       0.000000           1.0                 1.0          1.0   \n",
      "\n",
      "       drive_through  accessible  ...  children_under_2  public_transit  \\\n",
      "count           58.0       169.0  ...             141.0           134.0   \n",
      "mean             1.0         1.0  ...               1.0             1.0   \n",
      "std              0.0         0.0  ...               0.0             0.0   \n",
      "min              1.0         1.0  ...               1.0             1.0   \n",
      "25%              1.0         1.0  ...               1.0             1.0   \n",
      "50%              1.0         1.0  ...               1.0             1.0   \n",
      "75%              1.0         1.0  ...               1.0             1.0   \n",
      "max              1.0         1.0  ...               1.0             1.0   \n",
      "\n",
      "       french_language_services  free_parking  general_population  \\\n",
      "count                      64.0         145.0                77.0   \n",
      "mean                        1.0           1.0                 1.0   \n",
      "std                         0.0           0.0                 0.0   \n",
      "min                         1.0           1.0                 1.0   \n",
      "25%                         1.0           1.0                 1.0   \n",
      "50%                         1.0           1.0                 1.0   \n",
      "75%                         1.0           1.0                 1.0   \n",
      "max                         1.0           1.0                 1.0   \n",
      "\n",
      "       asl_interpretation  first_nations  community_lab  vaccine_enrolled  \\\n",
      "count                17.0            8.0           60.0            1804.0   \n",
      "mean                  1.0            1.0            1.0               1.0   \n",
      "std                   0.0            0.0            0.0               0.0   \n",
      "min                   1.0            1.0            1.0               1.0   \n",
      "25%                   1.0            1.0            1.0               1.0   \n",
      "50%                   1.0            1.0            1.0               1.0   \n",
      "75%                   1.0            1.0            1.0               1.0   \n",
      "max                   1.0            1.0            1.0               1.0   \n",
      "\n",
      "       pharmacy  \n",
      "count    1876.0  \n",
      "mean        1.0  \n",
      "std         0.0  \n",
      "min         1.0  \n",
      "25%         1.0  \n",
      "50%         1.0  \n",
      "75%         1.0  \n",
      "max         1.0  \n",
      "\n",
      "[8 rows x 21 columns]\n"
     ]
    }
   ],
   "source": [
    "print(df.describe())"
   ]
  },
  {
   "cell_type": "code",
   "execution_count": null,
   "id": "ceabec10",
   "metadata": {},
   "outputs": [],
   "source": []
  }
 ],
 "metadata": {
  "kernelspec": {
   "display_name": "Python 3 (ipykernel)",
   "language": "python",
   "name": "python3"
  },
  "language_info": {
   "codemirror_mode": {
    "name": "ipython",
    "version": 3
   },
   "file_extension": ".py",
   "mimetype": "text/x-python",
   "name": "python",
   "nbconvert_exporter": "python",
   "pygments_lexer": "ipython3",
   "version": "3.9.13"
  }
 },
 "nbformat": 4,
 "nbformat_minor": 5
}
