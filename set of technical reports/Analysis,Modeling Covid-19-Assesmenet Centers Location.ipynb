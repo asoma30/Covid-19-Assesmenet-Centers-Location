{
 "cells": [
  {
   "cell_type": "code",
   "execution_count": 111,
   "id": "216998e2",
   "metadata": {},
   "outputs": [],
   "source": [
    "import pandas as pd\n",
    "import numpy as np\n",
    "from sklearn.model_selection import train_test_split\n",
    "import seaborn as sns\n",
    "import matplotlib.pyplot as plt\n",
    "from sklearn.preprocessing import StandardScaler\n",
    "from sklearn.linear_model import LinearRegression\n",
    "from sklearn.tree import DecisionTreeRegressor\n",
    "from sklearn.metrics import mean_squared_error, r2_score\n",
    "from sklearn.ensemble import RandomForestRegressor\n",
    "\n",
    "\n",
    "# Load the dataset\n",
    "df = pd.read_csv('cleaned_assessment_centre_locations.csv')"
   ]
  },
  {
   "cell_type": "code",
   "execution_count": 104,
   "id": "a8b0db47",
   "metadata": {},
   "outputs": [],
   "source": [
    "X = df[['testing_enrolled', 'location_id', 'latitude', 'longitude', 'appointments', \n",
    "        'phone_appointments', 'symptomatic', 'drive_through', 'accessible', \n",
    "        'walk_ins', 'children_under_2', 'public_transit', 'french_language_services', \n",
    "        'free_parking', 'general_population', 'asl_interpretation', 'first_nations', \n",
    "        'community_lab', 'vaccine_enrolled', 'pharmacy']]"
   ]
  },
  {
   "cell_type": "code",
   "execution_count": 105,
   "id": "44bb7e8b",
   "metadata": {},
   "outputs": [],
   "source": [
    "y = df['latitude']  # target column name"
   ]
  },
  {
   "cell_type": "code",
   "execution_count": 106,
   "id": "e2191387",
   "metadata": {},
   "outputs": [],
   "source": [
    "# Splitting data into training and testing sets (80% train, 20% test)\n",
    "X_train, X_test, y_train, y_test = train_test_split(X, y, test_size=0.2, random_state=42)"
   ]
  },
  {
   "cell_type": "code",
   "execution_count": 107,
   "id": "f44b524d",
   "metadata": {},
   "outputs": [],
   "source": [
    "# Standardize the features \n",
    "scaler = StandardScaler()\n",
    "X_train_scaled = scaler.fit_transform(X_train)\n",
    "X_test_scaled = scaler.transform(X_test)"
   ]
  },
  {
   "cell_type": "code",
   "execution_count": 108,
   "id": "9e3db36c",
   "metadata": {},
   "outputs": [
    {
     "name": "stdout",
     "output_type": "stream",
     "text": [
      "Linear Regression MSE: 5.048709793414476e-29\n",
      "Linear Regression R-squared: 1.0\n"
     ]
    }
   ],
   "source": [
    "# 1. Linear Regression\n",
    "lr_model = LinearRegression()\n",
    "lr_model.fit(X_train_scaled, y_train)\n",
    "lr_pred = lr_model.predict(X_test_scaled)\n",
    "lr_mse = mean_squared_error(y_test, lr_pred)\n",
    "lr_r2 = r2_score(y_test, lr_pred)\n",
    "\n",
    "print(\"Linear Regression MSE:\", lr_mse)\n",
    "print(\"Linear Regression R-squared:\", lr_r2)\n"
   ]
  },
  {
   "cell_type": "code",
   "execution_count": 109,
   "id": "5b3e38cf",
   "metadata": {},
   "outputs": [
    {
     "name": "stdout",
     "output_type": "stream",
     "text": [
      "Decision Tree Regression MSE: 3.1950510427741724e-05\n",
      "Decision Tree Regression R-squared: 0.9999743867668272\n"
     ]
    }
   ],
   "source": [
    "# 2. Decision Tree Regression\n",
    "dt_model = DecisionTreeRegressor(random_state=42)\n",
    "dt_model.fit(X_train, y_train)\n",
    "dt_pred = dt_model.predict(X_test)\n",
    "dt_mse = mean_squared_error(y_test, dt_pred)\n",
    "dt_r2 = r2_score(y_test, dt_pred)\n",
    "\n",
    "print(\"Decision Tree Regression MSE:\", dt_mse)\n",
    "print(\"Decision Tree Regression R-squared:\", dt_r2)\n"
   ]
  },
  {
   "cell_type": "code",
   "execution_count": 112,
   "id": "2ba1d356",
   "metadata": {},
   "outputs": [
    {
     "name": "stdout",
     "output_type": "stream",
     "text": [
      "Random Forest Regression MSE: 3.0713656750996857e-05\n",
      "Random Forest Regression R-squared: 0.9999753782946994\n"
     ]
    }
   ],
   "source": [
    "# 3. Random Forest Regression\n",
    "rf_model = RandomForestRegressor(random_state=42)\n",
    "rf_model.fit(X_train, y_train)\n",
    "rf_pred = rf_model.predict(X_test)\n",
    "rf_mse = mean_squared_error(y_test, rf_pred)\n",
    "rf_r2 = r2_score(y_test, rf_pred)\n",
    "\n",
    "print(\"Random Forest Regression MSE:\", rf_mse)\n",
    "print(\"Random Forest Regression R-squared:\", rf_r2)\n"
   ]
  },
  {
   "cell_type": "markdown",
   "id": "12db14ce",
   "metadata": {},
   "source": [
    "the analyzing and comparing the capacity and utilization rates of COVID-19 assessment centers across different regions using regression models Linear Regression, Decision Tree Regression, and Random Forest Regression — using these numerical attributes,showing that the MSE and R-squared values for the **linear regression model**. Lower MSE values indicate better predictive performance, while higher R-squared values indicate a better fit of the model to the data.\n"
   ]
  }
 ],
 "metadata": {
  "kernelspec": {
   "display_name": "Python 3 (ipykernel)",
   "language": "python",
   "name": "python3"
  },
  "language_info": {
   "codemirror_mode": {
    "name": "ipython",
    "version": 3
   },
   "file_extension": ".py",
   "mimetype": "text/x-python",
   "name": "python",
   "nbconvert_exporter": "python",
   "pygments_lexer": "ipython3",
   "version": "3.9.13"
  }
 },
 "nbformat": 4,
 "nbformat_minor": 5
}
